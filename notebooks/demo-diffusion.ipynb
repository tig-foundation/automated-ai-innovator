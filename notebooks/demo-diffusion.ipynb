{
 "cells": [
  {
   "cell_type": "markdown",
   "metadata": {},
   "source": [
    "# Diffusion models overview\n",
    "\n",
    "This gives a code overview of: \n",
    "- Diffusion probabilistic models\n",
    "\n",
    "\n",
    "\n",
    "### Table of contents\n",
    "1. [Generating synthetic data for regression tasks](#synthetic)\n",
    "2. [Creating gradient descent optimizer algorithms (INNOVATORS)](#optimizer)\n",
    "3. [Performing the gradient descent training loop (BENCHMARKERS)](#train)\n",
    "4. [Verifying gradient descent computation (BLOCKCHAIN)](#verify)"
   ]
  },
  {
   "cell_type": "code",
   "execution_count": 1,
   "metadata": {},
   "outputs": [
    {
     "ename": "ModuleNotFoundError",
     "evalue": "No module named 'torchvision'",
     "output_type": "error",
     "traceback": [
      "\u001b[0;31m---------------------------------------------------------------------------\u001b[0m",
      "\u001b[0;31mModuleNotFoundError\u001b[0m                       Traceback (most recent call last)",
      "Cell \u001b[0;32mIn[1], line 7\u001b[0m\n\u001b[1;32m      5\u001b[0m \u001b[38;5;28;01mimport\u001b[39;00m\u001b[38;5;250m \u001b[39m\u001b[38;5;21;01mtorch\u001b[39;00m\u001b[38;5;21;01m.\u001b[39;00m\u001b[38;5;21;01mnn\u001b[39;00m\u001b[38;5;250m \u001b[39m\u001b[38;5;28;01mas\u001b[39;00m\u001b[38;5;250m \u001b[39m\u001b[38;5;21;01mnn\u001b[39;00m\n\u001b[1;32m      6\u001b[0m \u001b[38;5;28;01mimport\u001b[39;00m\u001b[38;5;250m \u001b[39m\u001b[38;5;21;01mtorch\u001b[39;00m\u001b[38;5;21;01m.\u001b[39;00m\u001b[38;5;21;01moptim\u001b[39;00m\u001b[38;5;250m \u001b[39m\u001b[38;5;28;01mas\u001b[39;00m\u001b[38;5;250m \u001b[39m\u001b[38;5;21;01moptim\u001b[39;00m\n\u001b[0;32m----> 7\u001b[0m \u001b[38;5;28;01mimport\u001b[39;00m\u001b[38;5;250m \u001b[39m\u001b[38;5;21;01mtorchvision\u001b[39;00m\n\u001b[1;32m      8\u001b[0m \u001b[38;5;28;01mimport\u001b[39;00m\u001b[38;5;250m \u001b[39m\u001b[38;5;21;01mtorchvision\u001b[39;00m\u001b[38;5;21;01m.\u001b[39;00m\u001b[38;5;21;01mtransforms\u001b[39;00m\u001b[38;5;250m \u001b[39m\u001b[38;5;28;01mas\u001b[39;00m\u001b[38;5;250m \u001b[39m\u001b[38;5;21;01mtransforms\u001b[39;00m\n\u001b[1;32m      9\u001b[0m \u001b[38;5;28;01mimport\u001b[39;00m\u001b[38;5;250m \u001b[39m\u001b[38;5;21;01mmatplotlib\u001b[39;00m\u001b[38;5;21;01m.\u001b[39;00m\u001b[38;5;21;01mpyplot\u001b[39;00m\u001b[38;5;250m \u001b[39m\u001b[38;5;28;01mas\u001b[39;00m\u001b[38;5;250m \u001b[39m\u001b[38;5;21;01mplt\u001b[39;00m\n",
      "\u001b[0;31mModuleNotFoundError\u001b[0m: No module named 'torchvision'"
     ]
    }
   ],
   "source": [
    "%load_ext autoreload\n",
    "%autoreload 2\n",
    "\n",
    "import torch\n",
    "import torch.nn as nn\n",
    "import torch.optim as optim\n",
    "import torchvision\n",
    "import torchvision.transforms as transforms\n",
    "import matplotlib.pyplot as plt\n",
    "import numpy as np\n",
    "\n",
    "# attempt to request a GPU if available\n",
    "dev = torch.device('cpu')#src.device.get_device(gpu=0)"
   ]
  },
  {
   "cell_type": "markdown",
   "metadata": {},
   "source": [
    "<a id=\"synthetic\"></a>\n",
    "## 1. Generating synthetic data for regression tasks\n",
    "\n",
    "In regression tasks that we consider, one wants to find the scalar function $f(\\cdot)$ that describes noisy observation values $y_i$ at locations $\\mathbf{x}_i$ \n",
    "$$\n",
    "y_i = f(\\mathbf{x}_i) + \\epsilon_i\n",
    "$$\n",
    "where $\\epsilon_i$ is some noise term, e.g. unit normal. \n",
    "Note that input locations can be multidimensional $\\mathbf{x} \\in \\mathbb{R}^{D}$, and in particular neural networks are empirically known to excel at modeling such functions for large $D$, such as in [classifying images](https://wandb.ai/wandb_fc/wb-tutorials/reports/Tutorial-Text-Classification-Using-CNNs--Vmlldzo0NTIxNDI5) (where $D$ is the number of pixels) or compressing high dimensional data (e.g. [autoencoders](https://www.tensorflow.org/tutorials/generative/autoencoder)). \n",
    "In addition, neural networks can flexibly approximate complicated and non-smooth functions $f(\\cdot)$ that often arise in real-world applications, and this is commonly formalized through the [universal approximation theorem](https://www.deep-mind.org/2023/03/26/the-universal-approximation-theorem/). \n",
    "\n",
    "In this notebook, we consider a simple regression task with i.i.d. Gaussian noise $\\epsilon$ and $D = 2$ which we can visualize."
   ]
  },
  {
   "cell_type": "code",
   "execution_count": null,
   "metadata": {},
   "outputs": [],
   "source": [
    "def forward_diffusion(x_0, timesteps, beta_start=1e-4, beta_end=0.02):\n",
    "    \"\"\"\n",
    "    Forward diffusion: Adds noise to the data at each timestep.\n",
    "\n",
    "    Args:\n",
    "    - x_0: Original data (batch of images)\n",
    "    - timesteps: Number of diffusion steps\n",
    "    - beta_start, beta_end: Controls noise schedule\n",
    "\n",
    "    Returns:\n",
    "    - Noisy images at each timestep\n",
    "    \"\"\"\n",
    "    device = x_0.device\n",
    "    betas = torch.linspace(beta_start, beta_end, timesteps).to(device)  # Noise schedule\n",
    "    alphas = 1.0 - betas\n",
    "    alphas_cumprod = torch.cumprod(alphas, dim=0)  # Cumulative product of alphas\n",
    "\n",
    "    noise = torch.randn_like(x_0).to(device)\n",
    "    timesteps = torch.randint(0, timesteps, (x_0.shape[0],), device=device)  # Random timestep for each image\n",
    "    sqrt_alpha_cumprod = torch.sqrt(alphas_cumprod[timesteps])[:, None, None, None]\n",
    "    sqrt_one_minus_alpha_cumprod = torch.sqrt(1 - alphas_cumprod[timesteps])[:, None, None, None]\n",
    "    \n",
    "    x_t = sqrt_alpha_cumprod * x_0 + sqrt_one_minus_alpha_cumprod * noise  # Noisy sample\n",
    "    return x_t, timesteps, noise\n"
   ]
  },
  {
   "cell_type": "code",
   "execution_count": null,
   "metadata": {},
   "outputs": [],
   "source": [
    "class SimpleDenoiser(nn.Module):\n",
    "    def __init__(self):\n",
    "        super().__init__()\n",
    "        self.conv1 = nn.Conv2d(1, 32, 3, padding=1)  # Input 1-channel (grayscale)\n",
    "        self.conv2 = nn.Conv2d(32, 64, 3, padding=1)\n",
    "        self.conv3 = nn.Conv2d(64, 32, 3, padding=1)\n",
    "        self.conv4 = nn.Conv2d(32, 1, 3, padding=1)\n",
    "\n",
    "        self.relu = nn.ReLU()\n",
    "    \n",
    "    def forward(self, x, t):\n",
    "        \"\"\"\n",
    "        Forward pass through denoising network.\n",
    "        x: Noisy image\n",
    "        t: Timestep information (not used here but could be added via embeddings)\n",
    "        \"\"\"\n",
    "        x = self.relu(self.conv1(x))\n",
    "        x = self.relu(self.conv2(x))\n",
    "        x = self.relu(self.conv3(x))\n",
    "        x = self.conv4(x)  # Predict noise\n",
    "        return x\n"
   ]
  },
  {
   "cell_type": "code",
   "execution_count": null,
   "metadata": {},
   "outputs": [],
   "source": [
    "# Hyperparameters\n",
    "epochs = 10\n",
    "timesteps = 100\n",
    "lr = 1e-3\n",
    "batch_size = 128\n",
    "\n",
    "# Load MNIST dataset\n",
    "transform = transforms.Compose([transforms.ToTensor()])\n",
    "train_dataset = torchvision.datasets.MNIST(root='./data', train=True, transform=transform, download=True)\n",
    "train_loader = torch.utils.data.DataLoader(train_dataset, batch_size=batch_size, shuffle=True)\n",
    "\n",
    "# Model, loss function, and optimizer\n",
    "device = torch.device(\"cuda\" if torch.cuda.is_available() else \"cpu\")\n",
    "model = SimpleDenoiser().to(device)\n",
    "optimizer = optim.Adam(model.parameters(), lr=lr)\n",
    "criterion = nn.MSELoss()\n",
    "\n",
    "# Training loop\n",
    "for epoch in range(epochs):\n",
    "    for images, _ in train_loader:\n",
    "        images = images.to(device)\n",
    "        x_t, t, noise = forward_diffusion(images, timesteps)\n",
    "        \n",
    "        optimizer.zero_grad()\n",
    "        noise_pred = model(x_t, t)\n",
    "        loss = criterion(noise_pred, noise)  # MSE loss to denoise the image\n",
    "        loss.backward()\n",
    "        optimizer.step()\n",
    "    \n",
    "    print(f\"Epoch {epoch+1}/{epochs}, Loss: {loss.item():.4f}\")\n",
    "\n",
    "print(\"Training complete!\")\n"
   ]
  },
  {
   "cell_type": "code",
   "execution_count": null,
   "metadata": {},
   "outputs": [],
   "source": []
  }
 ],
 "metadata": {
  "kernelspec": {
   "display_name": "TIG_BBO",
   "language": "python",
   "name": "tig_bbo"
  },
  "language_info": {
   "codemirror_mode": {
    "name": "ipython",
    "version": 3
   },
   "file_extension": ".py",
   "mimetype": "text/x-python",
   "name": "python",
   "nbconvert_exporter": "python",
   "pygments_lexer": "ipython3",
   "version": "3.10.2"
  }
 },
 "nbformat": 4,
 "nbformat_minor": 4
}
